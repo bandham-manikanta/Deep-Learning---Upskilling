{
 "cells": [
  {
   "cell_type": "code",
   "execution_count": 1,
   "metadata": {},
   "outputs": [],
   "source": [
    "import torch\n",
    "import torch.nn as nn\n",
    "import torch.optim as optim\n",
    "from torch.quantization import QuantStub, DeQuantStub, fuse_modules, prepare_qat, convert\n",
    "\n",
    "class SimpleQATModel(nn.Module):\n",
    "    def __init__(self):\n",
    "        super(SimpleQATModel, self).__init__()\n",
    "        self.quant = QuantStub()\n",
    "        self.conv1 = nn.Conv2d(1, 8, kernel_size=3, stride=1, padding=1)\n",
    "        self.relu = nn.ReLU()\n",
    "        self.fc = nn.Linear(8 * 28 * 28, 10)\n",
    "        self.dequant = DeQuantStub()\n",
    "\n",
    "    def forward(self, x):\n",
    "        x = self.quant(x)  # Quantize input\n",
    "        x = self.conv1(x)\n",
    "        x = self.relu(x)\n",
    "        x = x.view(x.size(0), -1)  # Flatten\n",
    "        x = self.fc(x)\n",
    "        x = self.dequant(x)  # Dequantize output\n",
    "        return x\n"
   ]
  },
  {
   "cell_type": "code",
   "execution_count": 2,
   "metadata": {},
   "outputs": [],
   "source": [
    "import torchvision\n",
    "import torchvision.transforms as transforms\n",
    "\n",
    "# Define the dataset and loader\n",
    "transform = transforms.Compose([transforms.ToTensor(), transforms.Normalize((0.5,), (0.5,))])\n",
    "\n",
    "train_dataset = torchvision.datasets.MNIST(root='./data', train=True, transform=transform, download=True)\n",
    "train_loader = torch.utils.data.DataLoader(train_dataset, batch_size=32, shuffle=True)\n"
   ]
  },
  {
   "cell_type": "code",
   "execution_count": null,
   "metadata": {},
   "outputs": [
    {
     "name": "stderr",
     "output_type": "stream",
     "text": [
      "[W117 02:38:07.720226687 kineto_shim.cpp:415] Adding profiling metadata requires using torch.profiler with Kineto support (USE_KINETO=1)\n"
     ]
    }
   ],
   "source": [
    "# Instantiate the model\n",
    "model = SimpleQATModel()\n",
    "\n",
    "# Define loss and optimizer\n",
    "criterion = nn.CrossEntropyLoss()\n",
    "optimizer = optim.Adam(model.parameters(), lr=0.001)\n",
    "\n",
    "from torch.profiler import profile, record_function, ProfilerActivity\n",
    "\n",
    "with profile(activities=[ProfilerActivity.CPU], \n",
    "             on_trace_ready=torch.profiler.tensorboard_trace_handler('./log'), \n",
    "             record_shapes=True) as prof:\n",
    "\n",
    "    model.train()\n",
    "    for epoch in range(1):  # Train the full-precision model\n",
    "        for images, labels in train_loader:\n",
    "            optimizer.zero_grad()\n",
    "            outputs = model(images)\n",
    "            loss = criterion(outputs, labels)\n",
    "            loss.backward()\n",
    "            optimizer.step()\n",
    "    prof.export()\n",
    "\n",
    "print(\"Full-precision training complete.\")\n",
    "torch.save(model.state_dict(), \"full_precision_model.pth\")\n"
   ]
  },
  {
   "cell_type": "code",
   "execution_count": 6,
   "metadata": {},
   "outputs": [
    {
     "name": "stderr",
     "output_type": "stream",
     "text": [
      "/home/bandham/miniconda3/envs/dl_venv/lib/python3.13/site-packages/torch/ao/quantization/observer.py:229: UserWarning: Please use quant_min and quant_max to specify the range for observers.                     reduce_range will be deprecated in a future release of PyTorch.\n",
      "  warnings.warn(\n"
     ]
    },
    {
     "name": "stdout",
     "output_type": "stream",
     "text": [
      "QAT fine-tuning complete.\n"
     ]
    }
   ],
   "source": [
    "fuse_modules(model, [['conv1', 'relu']], inplace=True)\n",
    "\n",
    "model.qconfig = torch.quantization.get_default_qat_qconfig('fbgemm')\n",
    "prepare_qat(model, inplace=True)\n",
    "\n",
    "with profile(activities=[ProfilerActivity.CPU], \n",
    "             on_trace_ready=torch.profiler.tensorboard_trace_handler('./log'), \n",
    "             record_shapes=True) as prof:\n",
    "    for epoch in range(1):  # Fine-tune with QAT\n",
    "        for images, labels in train_loader:\n",
    "            optimizer.zero_grad()\n",
    "            outputs = model(images)\n",
    "            loss = criterion(outputs, labels)\n",
    "            loss.backward()\n",
    "            optimizer.step()\n",
    "    prof.export()\n",
    "\n",
    "print(\"QAT fine-tuning complete.\")\n"
   ]
  },
  {
   "cell_type": "code",
   "execution_count": 7,
   "metadata": {},
   "outputs": [
    {
     "name": "stdout",
     "output_type": "stream",
     "text": [
      "Model quantized.\n"
     ]
    }
   ],
   "source": [
    "# Convert to a quantized model\n",
    "model.eval()\n",
    "model = convert(model, inplace=True)\n",
    "print(\"Model quantized.\")\n"
   ]
  },
  {
   "cell_type": "code",
   "execution_count": 8,
   "metadata": {},
   "outputs": [
    {
     "name": "stdout",
     "output_type": "stream",
     "text": [
      "Quantized model saved as 'quantized_model.pth'.\n",
      "Full-Precision Model Size: 247.43 KB\n",
      "Quantized Model Size: 66.50 KB\n"
     ]
    }
   ],
   "source": [
    "import os\n",
    "\n",
    "# Save models\n",
    "torch.save(model.state_dict(), \"quantized_model.pth\")\n",
    "print(\"Quantized model saved as 'quantized_model.pth'.\")\n",
    "\n",
    "# Get file sizes\n",
    "full_precision_size = os.path.getsize(\"full_precision_model.pth\")\n",
    "quantized_size = os.path.getsize(\"quantized_model.pth\")\n",
    "\n",
    "print(f\"Full-Precision Model Size: {full_precision_size / 1024:.2f} KB\")\n",
    "print(f\"Quantized Model Size: {quantized_size / 1024:.2f} KB\")\n",
    "\n"
   ]
  },
  {
   "cell_type": "code",
   "execution_count": 6,
   "metadata": {},
   "outputs": [
    {
     "name": "stdout",
     "output_type": "stream",
     "text": [
      "Traceback (most recent call last):\n",
      "  File \u001b[35m\"/home/bandham/miniconda3/envs/dl_venv/bin/tensorboard\"\u001b[0m, line \u001b[35m6\u001b[0m, in \u001b[35m<module>\u001b[0m\n",
      "    from tensorboard.main import run_main\n",
      "  File \u001b[35m\"/home/bandham/miniconda3/envs/dl_venv/lib/python3.13/site-packages/tensorboard/main.py\"\u001b[0m, line \u001b[35m27\u001b[0m, in \u001b[35m<module>\u001b[0m\n",
      "    from tensorboard import default\n",
      "  File \u001b[35m\"/home/bandham/miniconda3/envs/dl_venv/lib/python3.13/site-packages/tensorboard/default.py\"\u001b[0m, line \u001b[35m40\u001b[0m, in \u001b[35m<module>\u001b[0m\n",
      "    from tensorboard.plugins.image import images_plugin\n",
      "  File \u001b[35m\"/home/bandham/miniconda3/envs/dl_venv/lib/python3.13/site-packages/tensorboard/plugins/image/images_plugin.py\"\u001b[0m, line \u001b[35m18\u001b[0m, in \u001b[35m<module>\u001b[0m\n",
      "    import imghdr\n",
      "\u001b[1;35mModuleNotFoundError\u001b[0m: \u001b[35mNo module named 'imghdr'\u001b[0m\n"
     ]
    }
   ],
   "source": [
    "!tensorboard"
   ]
  }
 ],
 "metadata": {
  "kernelspec": {
   "display_name": "dl_venv",
   "language": "python",
   "name": "python3"
  },
  "language_info": {
   "codemirror_mode": {
    "name": "ipython",
    "version": 3
   },
   "file_extension": ".py",
   "mimetype": "text/x-python",
   "name": "python",
   "nbconvert_exporter": "python",
   "pygments_lexer": "ipython3",
   "version": "3.13.1"
  }
 },
 "nbformat": 4,
 "nbformat_minor": 2
}
